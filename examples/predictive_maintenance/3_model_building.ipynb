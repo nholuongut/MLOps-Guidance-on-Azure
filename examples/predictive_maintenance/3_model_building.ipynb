{
 "cells": [
  {
   "cell_type": "markdown",
   "metadata": {},
   "source": [
    "# Step 3: Model Building\n",
    "\n",
    "Using the labeled feature data set constructed in the `2_feature_engineering.ipynb` Jupyter notebook, this notebook loads the featurize dataset to memory and splits it into a training and test data set. We then build a machine learning model (a decision tree classifier or a random forest classifier) to predict when different components within our machine population will fail. We store the better performing model for deployment in an Azure web service in the next. We will prepare and build the web service in the `4_operationalization.ipynb` Jupyter notebook.\n",
    "\n",
    "**Note:** This notebook will take aound 6 minutes to execute all cells on a Standard_DS13_v2 cluster."
   ]
  },
  {
   "cell_type": "code",
   "execution_count": 2,
   "metadata": {},
   "outputs": [],
   "source": [
    "# import the libraries\n",
    "import os\n",
    "import glob\n",
    "import time\n",
    "\n",
    "# for creating pipelines and model\n",
    "from pyspark.ml.feature import (StringIndexer, OneHotEncoder,\n",
    "                                VectorAssembler, VectorIndexer)\n",
    "from pyspark.ml import Pipeline, PipelineModel\n",
    "from pyspark.ml.classification import (RandomForestClassifier,DecisionTreeClassifier)\n",
    "from pyspark.ml.evaluation import MulticlassClassificationEvaluator\n",
    "\n",
    "from pyspark.sql.functions import col\n",
    "from pyspark.sql import SparkSession\n",
    "\n",
    "# For some data handling & plotting\n",
    "import numpy as np\n",
    "import pandas as pd\n",
    "import matplotlib.pyplot as plt\n",
    "plt.style.use('ggplot')\n",
    "\n",
    "from azureml.core import (Workspace, VERSION)\n",
    "from azureml.core.run import Run\n",
    "from azureml.core.experiment import Experiment\n",
    "\n",
    "# Time the notebook execution. \n",
    "# This will only make sense if you \"Run all cells\"\n",
    "tic = time.time()\n",
    "\n",
    "# Check core SDK version number\n",
    "print(\"AML-SDK version:\", VERSION)"
   ]
  },
  {
   "cell_type": "markdown",
   "metadata": {},
   "source": [
    "Here we get a reference to the AML workspace"
   ]
  },
  {
   "cell_type": "code",
   "execution_count": 4,
   "metadata": {},
   "outputs": [],
   "source": [
    "# Enter workspace details below\n",
    "\n",
    "subscription_id = \"\"\n",
    "resource_group = \"\"\n",
    "workspace_name = \"\"\n",
    "workspace_location = \"\"\n",
    "\n",
    "ws = Workspace(workspace_name = workspace_name,\n",
    "               subscription_id = subscription_id,\n",
    "               resource_group = resource_group)\n",
    "\n",
    "# persist workspace info in aml_config/config.json which will be needed in notebook 04.\n",
    "ws.write_config()\n",
    "\n",
    "myexperiment = Experiment(ws, \"Predictive_maintenance_Experiment\")\n",
    "run = myexperiment.start_logging()"
   ]
  },
  {
   "cell_type": "markdown",
   "metadata": {},
   "source": [
    "# Load feature data set\n",
    "\n",
    "We have previously created the labeled feature data set in the `Code\\2_feature_engineering.ipynb` Jupyter notebook. We load the data and dump a short summary of the resulting DataFrame."
   ]
  },
  {
   "cell_type": "code",
   "execution_count": 6,
   "metadata": {},
   "outputs": [],
   "source": [
    "features_file = 'featureengineering_files.parquet'\n",
    "target_dir = \"dbfs:/dataset/\"\n",
    "model_dir = \"dbfs:/model/\"\n",
    "feat_data = spark.read.parquet(os.path.join(target_dir,features_file))\n",
    "feat_data.limit(10).toPandas()"
   ]
  },
  {
   "cell_type": "markdown",
   "metadata": {},
   "source": [
    "# Prepare the Training/Testing data"
   ]
  },
  {
   "cell_type": "markdown",
   "metadata": {},
   "source": [
    "A fundamental practice in machine learning is to calibrate and test your model parameters on data that has not been used to train the model. Evaluation of the model requires splitting the available data into a training portion, a calibration portion and an evaluation portion. Typically, 80% of data is used to train the model and 10% each to calibrate any parameter selection and evaluate your model.\n",
    "\n",
    "In general random splitting can be used, but since time series data have an inherent correlation between observations. For predictive maintenance problems, a time-dependent spliting strategy is often a better approach to estimate performance. For a time-dependent split, a single point in time is chosen, the model is trained on examples up to that point in time, and validated on the examples after that point. This simulates training on current data and score data collected in the future data after the splitting point is not known. However, care must be taken on labels near the split point. In this case, feature records within 7 days of the split point can not be labeled as a failure, since that is unobserved data. \n",
    "\n",
    "In the following code blocks, we split the data at a single point to train and evaluate this model."
   ]
  },
  {
   "cell_type": "code",
   "execution_count": 9,
   "metadata": {},
   "outputs": [],
   "source": [
    "# define list of input columns for downstream modeling\n",
    "\n",
    "# We'll use the known label, and key variables.\n",
    "label_var = ['label_e']\n",
    "key_cols =['machineID','dt_truncated']\n",
    "\n",
    "# Then get the remaing feature names from the data\n",
    "input_features = feat_data.columns\n",
    "\n",
    "# We'll use the known label, key variables and \n",
    "# a few extra columns we won't need.\n",
    "remove_names = label_var + key_cols + ['failure','model_encoded','model' ]\n",
    "\n",
    "# Remove the extra names if that are in the input_features list\n",
    "input_features = [x for x in input_features if x not in set(remove_names)]\n",
    "\n",
    "input_features"
   ]
  },
  {
   "cell_type": "markdown",
   "metadata": {},
   "source": [
    "Spark models require a vectorized data frame. We transform the dataset here and then split the data into a training and test set. We use this split data to train the model on 9 months of data (training data), and evaluate on the remaining 3 months (test data) going forward."
   ]
  },
  {
   "cell_type": "code",
   "execution_count": 11,
   "metadata": {},
   "outputs": [],
   "source": [
    "# assemble features\n",
    "va = VectorAssembler(inputCols=(input_features), outputCol='features')\n",
    "feat_data = va.transform(feat_data).select('machineID','dt_truncated','label_e','features')\n",
    "\n",
    "# set maxCategories so features with > 10 distinct values are treated as continuous.\n",
    "featureIndexer = VectorIndexer(inputCol=\"features\", \n",
    "                               outputCol=\"indexedFeatures\", \n",
    "                               maxCategories=10).fit(feat_data)\n",
    "\n",
    "# fit on whole dataset to include all labels in index\n",
    "labelIndexer = StringIndexer(inputCol=\"label_e\", outputCol=\"indexedLabel\").fit(feat_data)\n",
    "\n",
    "# split the data into train/test based on date\n",
    "split_date = \"2015-10-30\"\n",
    "training = feat_data.filter(feat_data.dt_truncated < split_date)\n",
    "testing = feat_data.filter(feat_data.dt_truncated >= split_date)\n",
    "\n",
    "run.log('training set size',training.count())\n",
    "run.log('testing set size',testing.count())"
   ]
  },
  {
   "cell_type": "markdown",
   "metadata": {},
   "source": [
    "# Classification models\n",
    "\n",
    "A particualar troubling behavior in predictive maintenance is machine failures are usually rare occurrences compared to normal operation. This is fortunate for the business as maintenance and saftey issues are few, but causes an imbalance in the label distribution. This imbalance leads to poor performance as algorithms tend to classify majority class examples at the expense of minority class, since the total misclassification error is much improved when majority class is labeled correctly. This causes low recall or precision rates, although accuracy can be high. It becomes a larger problem when the cost of false alarms is very high. To help with this problem, sampling techniques such as oversampling of the minority examples can be used. These methods are not covered in this notebook. Because of this, it is also important to look at evaluation metrics other than accuracy alone.\n",
    "\n",
    "We will build and compare two different classification model approaches:\n",
    "\n",
    " - **Decision Tree Classifier**: Decision trees and their ensembles are popular methods for the machine learning tasks of classification and regression. Decision trees are widely used since they are easy to interpret, handle categorical features, extend to the multiclass classification setting, do not require feature scaling, and are able to capture non-linearities and feature interactions.\n",
    "\n",
    " - **Random Forest Classifier**: A random forest is an ensemble of decision trees. Random forests combine many decision trees in order to reduce the risk of overfitting. Tree ensemble algorithms such as random forests and boosting are among the top performers for classification and regression tasks.\n",
    "\n",
    "The next code block creates the model. You can choose between a _DecisionTree_ or _RandomForest_ by setting the 'model_type' variable. We have also included a series of model hyperparameters to guide your exploration of the model space."
   ]
  },
  {
   "cell_type": "code",
   "execution_count": 13,
   "metadata": {},
   "outputs": [],
   "source": [
    "model_type = 'RandomForest' # Use 'DecisionTree', or 'RandomForest'\n",
    "\n",
    "# train a model.\n",
    "if model_type == 'DecisionTree':\n",
    "    model = DecisionTreeClassifier(labelCol=\"indexedLabel\", featuresCol=\"indexedFeatures\",\n",
    "                                      # Maximum depth of the tree. (>= 0) \n",
    "                                      # E.g., depth 0 means 1 leaf node; depth 1 means 1 internal node + 2 leaf nodes.'\n",
    "                                      maxDepth=15,\n",
    "                                      # Max number of bins for discretizing continuous features. \n",
    "                                      # Must be >=2 and >= number of categories for any categorical feature.\n",
    "                                      maxBins=32, \n",
    "                                      # Minimum number of instances each child must have after split. \n",
    "                                      # If a split causes the left or right child to have fewer than \n",
    "                                      # minInstancesPerNode, the split will be discarded as invalid. Should be >= 1.\n",
    "                                      minInstancesPerNode=1, \n",
    "                                      # Minimum information gain for a split to be considered at a tree node.\n",
    "                                      minInfoGain=0.0, \n",
    "                                      # Criterion used for information gain calculation (case-insensitive). \n",
    "                                      # Supported options: entropy, gini')\n",
    "                                      impurity=\"gini\")\n",
    "\n",
    "    ##=======================================================================================================================\n",
    "    #elif model_type == 'GBTClassifier':\n",
    "    #    cls_mthd = GBTClassifier(labelCol=\"indexedLabel\", featuresCol=\"indexedFeatures\")\n",
    "    ##=======================================================================================================================\n",
    "else:    \n",
    "    model = RandomForestClassifier(labelCol=\"indexedLabel\", featuresCol=\"indexedFeatures\", \n",
    "                                      # Passed to DecisionTreeClassifier\n",
    "                                      maxDepth=15, \n",
    "                                      maxBins=32, \n",
    "                                      minInstancesPerNode=1, \n",
    "                                      minInfoGain=0.0,\n",
    "                                      impurity=\"gini\",\n",
    "                                      # Number of trees to train (>= 1)\n",
    "                                      numTrees=50, \n",
    "                                      # The number of features to consider for splits at each tree node. \n",
    "                                      # Supported options: auto, all, onethird, sqrt, log2, (0.0-1.0], [1-n].\n",
    "                                      featureSubsetStrategy=\"sqrt\", \n",
    "                                      # Fraction of the training data used for learning each \n",
    "                                      # decision tree, in range (0, 1].' \n",
    "                                      subsamplingRate = 0.632)\n",
    "\n",
    "# chain indexers and model in a Pipeline\n",
    "pipeline_cls_mthd = Pipeline(stages=[labelIndexer, featureIndexer, model])\n",
    "\n",
    "# train model.  This also runs the indexers.\n",
    "model_pipeline = pipeline_cls_mthd.fit(training)"
   ]
  },
  {
   "cell_type": "markdown",
   "metadata": {},
   "source": [
    "To evaluate this model, we predict the component failures over the test data set. Since the test set has been created from data the model has not been seen before, it simulates future data. The evaluation then can be generalize to how the model could perform when operationalized and used to score the data in real time."
   ]
  },
  {
   "cell_type": "code",
   "execution_count": 15,
   "metadata": {},
   "outputs": [],
   "source": [
    "# make predictions. The Pipeline does all the same operations on the test data\n",
    "predictions = model_pipeline.transform(testing)\n",
    "\n",
    "# Create the confusion matrix for the multiclass prediction results\n",
    "# This result assumes a decision boundary of p = 0.5\n",
    "conf_table = predictions.stat.crosstab('indexedLabel', 'prediction')\n",
    "display(conf_table)\n",
    "confuse = conf_table.toPandas()\n",
    "confuse.head()"
   ]
  },
  {
   "cell_type": "markdown",
   "metadata": {},
   "source": [
    "The confusion matrix lists each true component failure in rows and the predicted value in columns. Labels numbered 0.0 corresponds to no component failures. Labels numbered 1.0 through 4.0 correspond to failures in one of the four components in the machine. As an example, the third number in the top row indicates how many days we predicted component 2 would fail, when no components actually did fail. The second number in the second row, indicates how many days we correctly predicted a component 1 failure within the next 7 days.\n",
    "\n",
    "We read the confusion matrix numbers along the diagonal as correctly classifying the component failures. Numbers above the diagonal indicate the model incorrectly predicting a failure when non occured, and those below indicate incorrectly predicting a non-failure for the row indicated component failure.\n",
    "\n",
    "When evaluating classification models, it is convenient to reduce the results in the confusion matrix into a single performance statistic. However, depending on the problem space, it is impossible to always use the same statistic in this evaluation. Below, we calculate four such statistics.\n",
    "\n",
    "- **Accuracy**: reports how often we correctly predicted the labeled data. Unfortunatly, when there is a class imbalance (a large number of one of the labels relative to others), this measure is biased towards the largest class. In this case non-failure days.\n",
    "\n",
    "Because of the class imbalance inherint in predictive maintenance problems, it is better to look at the remaining statistics instead. Here positive predictions indicate a failure.\n",
    "\n",
    "- **Precision**: Precision is a measure of how well the model classifies the truely positive samples. Precision depends on falsely classifying negative days as positive.\n",
    "\n",
    "- **Recall**: Recall is a measure of how well the model can find the positive samples. Recall depends on falsely classifying positive days as negative.\n",
    "\n",
    "- **F1**: F1 considers both the precision and the recall. F1 score is the harmonic average of precision and recall. An F1 score reaches its best value at 1 (perfect precision and recall) and worst at 0.\n",
    "\n",
    "These metrics make the most sense for binary classifiers, though they are still useful for comparision in our multiclass setting. Below we calculate these evaluation statistics for the selected classifier, and post them back to the AML workbench run time page for tracking between experiments."
   ]
  },
  {
   "cell_type": "code",
   "execution_count": 17,
   "metadata": {},
   "outputs": [],
   "source": [
    "# select (prediction, true label) and compute test error\n",
    "# select (prediction, true label) and compute test error\n",
    "# True positives - diagonal failure terms \n",
    "tp = confuse['1.0'][1]+confuse['2.0'][2]+confuse['3.0'][3]+confuse['4.0'][4]\n",
    "\n",
    "# False positves - All failure terms - True positives\n",
    "fp = np.sum(np.sum(confuse[['1.0', '2.0','3.0','4.0']])) - tp\n",
    "\n",
    "# True negatives \n",
    "tn = confuse['0.0'][0]\n",
    "\n",
    "# False negatives total of non-failure column - TN\n",
    "fn = np.sum(np.sum(confuse[['0.0']])) - tn\n",
    "\n",
    "# Accuracy is diagonal/total \n",
    "acc_n = tn + tp\n",
    "acc_d = np.sum(np.sum(confuse[['0.0','1.0', '2.0','3.0','4.0']]))\n",
    "acc = acc_n/acc_d\n",
    "\n",
    "# Calculate precision and recall.\n",
    "prec = tp/(tp+fp)\n",
    "rec = tp/(tp+fn)\n",
    "\n",
    "# Print the evaluation metrics to the notebook\n",
    "print(\"Accuracy = %g\" % acc)\n",
    "print(\"Precision = %g\" % prec)\n",
    "print(\"Recall = %g\" % rec )\n",
    "print(\"F1 = %g\" % (2.0 * prec * rec/(prec + rec)))\n",
    "print(\"\")\n",
    "\n",
    "# track evaluation metrics through AML run.\n",
    "#\n",
    "run.log(\"Model Accuracy\", (acc))\n",
    "run.log(\"Model Precision\", (prec))\n",
    "run.log(\"Model Recall\", (rec))\n",
    "run.log(\"Model F1\", (2.0 * prec * rec/(prec + rec)))\n",
    "run.complete()"
   ]
  },
  {
   "cell_type": "code",
   "execution_count": 18,
   "metadata": {},
   "outputs": [],
   "source": [
    "importances = model_pipeline.stages[2].featureImportances\n",
    "\n",
    "ax = (pd.Series(importances, index=input_features)\n",
    "      .nlargest(20)\n",
    "   .plot(kind='barh', title = 'Top 20 model features importance', \n",
    "         figsize =(20,7)))  \n",
    "run.log_image('Features_importances', plot = ax.figure)\n",
    "run.complete()\n",
    "display(ax.figure)"
   ]
  },
  {
   "cell_type": "markdown",
   "metadata": {},
   "source": [
    "Remember that this is a simulated data set. We would expect a model built on real world data to behave very differently. The accuracy may still be close to one, but the precision and recall numbers would be much lower.\n",
    "\n",
    "## Persist the model\n",
    "\n",
    "We'll save the latest model for use in deploying a webservice for operationalization."
   ]
  },
  {
   "cell_type": "code",
   "execution_count": 20,
   "metadata": {},
   "outputs": [],
   "source": [
    "# save model\n",
    "model_name = 'pdmrfull.model'\n",
    "model_pipeline.write().overwrite().save(os.path.join(model_dir,model_name))\n",
    "\n",
    "# Time the notebook execution. \n",
    "# This will only make sense if you \"Run All\" cells\n",
    "toc = time.time()\n",
    "print(\"Full run took %.2f minutes\" % ((toc - tic)/60))\n"
   ]
  },
  {
   "cell_type": "markdown",
   "metadata": {},
   "source": [
    "## Conclusion\n",
    "\n",
    "In the next notebook `4_operationalization.ipynb` Jupyter notebook we will operationalize the model  to get realtime predictions."
   ]
  },
  {
   "cell_type": "code",
   "execution_count": null,
   "metadata": {},
   "outputs": [],
   "source": []
  }
 ],
 "metadata": {
  "kernelspec": {
   "display_name": "PredictiveMaintenance dlvmjme",
   "language": "python",
   "name": "predictivemaintenance_dlvmjme"
  },
  "language_info": {
   "codemirror_mode": {
    "name": "ipython",
    "version": "3"
   },
   "file_extension": ".py",
   "mimetype": "text/x-python",
   "name": "python",
   "nbconvert_exporter": "python",
   "pygments_lexer": "ipython3",
   "version": "3.5.2"
  },
  "name": "3_model_building",
  "notebookId": 3296429392325436
 },
 "nbformat": 4,
 "nbformat_minor": 1
}
